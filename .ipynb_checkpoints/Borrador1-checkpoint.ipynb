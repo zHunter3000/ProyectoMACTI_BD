{
 "cells": [
  {
   "cell_type": "markdown",
   "id": "d09a082f-e9ee-4d7a-b4ca-73cc37403941",
   "metadata": {},
   "source": [
    "# Consultas en SQL"
   ]
  },
  {
   "cell_type": "markdown",
   "id": "a8309539-1696-4ccd-8a11-d332a964f2c7",
   "metadata": {},
   "source": [
    "## Introducción a las Bases de Datos"
   ]
  },
  {
   "cell_type": "markdown",
   "id": "a7c8751a-8f8d-4948-8559-6cdbdd66ce7c",
   "metadata": {},
   "source": [
    "\n",
    "### Bases de Datos \n",
    "Antes de adentrarnos en la parte practica de que como crear una consulta SQL y su funcionamiento, es necesario responder conocer que es una Base de Datos.\n",
    "\n",
    "Podemos definir una **base de datos** como un conjunto organizado de datos que se almacenan y gestionan mediante un sistema manejor de bases de datos (**SMDB**). Las bases de datos permiten almacenar grandes cantidades de información de manera estructurada, facilitando su acceso, manipulación y actualización. Los datos en una base de datos se organizan en **tablas, que consisten en filas y columnas**. Cada fila representa un registro único, y cada columna representa un atributo del registro.\n",
    "\n",
    "Las bases de datos se han ocupado desde los inicios de la civilización y surgen de la necesidad de gestionar y administrar grandes cantidades de información de una manera optima y eficiente. Su desarrollo de una manera más formal se remonta a la decada de 1970 cuando Edgar F. Codd, un científico de IBM, propuso el modelo relacional de bases de datos, que se basa en la teoría de conjuntos y las relaciones matemáticas. Este modelo revolucionó la forma en que se gestionaban los datos y llevó al desarrollo de SQL como lenguaje estándar.\n",
    "\n",
    "Dicho modelo establece que los datos se organizan en tablas (o relaciones) compuestas por filas y columnas. Cada fila representa un registro único, y cada columna representa un atributo del registro.\n",
    "\n",
    "Los elementos básicos de una base de datos (y sus respectivas tablas) son las siguientes:\n",
    "\n",
    "- **Tabla:** Es una colección de datos organizado en filas y columnas. Una base de datos tiene más de una base de datos que representa una **entidad** especifica tal como \"\" o \" \" .\n",
    "- **Fila (o Registro)**: Representa un solo registro o entrada de datos. Cada fila contiene datos específicos para cada columna de la tabla.\n",
    "- **Columna (Atributos):** Representa un atributo o característica de la entidad. Cada columna tiene un nombre y un tipo de datos.\n",
    "- **Llave Primaria (Primary Key)**: Una llave primaria es un atributo que identifica de manera única cada fila en una tabla. No puede contener valores nulos y debe ser única, un ejemplo podría ser el numero de cuenta que tiene **cada ALUMNO** en la UNAM.\n",
    "- **Llave Secundaria/Foranea (Foreign Key)**: : Una llave foránea es un atributo en una tabla que se refiere a la llave primaria de otra tabla. Una llave secundaria tiene la caracteristica principal de que establece una relación entre las dos tablas.\n",
    "\n",
    "\n",
    "<center>\n",
    "<img src=\"https://github.com/jugernaut/ProgramacionEnParalelo/blob/main/Imagenes/Envoltorios/reco_ropa.png?raw=true\" width=\"700\">\n",
    "</center>\n"
   ]
  },
  {
   "cell_type": "markdown",
   "id": "ad934c6d-ce5f-49f8-91c7-08754187a0b4",
   "metadata": {},
   "source": [
    "### Sistema Manejador de Bases de Datos (SMBD)\n",
    "\n",
    "El DBMS (*Database Management System* por sus siglas en ingles) es un conjunto de programas que se encarga de organizar y administrar la base de datos. “Este software da soporte al almacenamiento confiable de la base de datos, pone en marcha las estructuras para mantener relaciones y restricciones, ofrece servicios de almacenamiento y recuperación a usuarios, además de tener funciones que se ocupan de otras tareas, como son el acceso simultáneo, seguridad, respaldo y recuperación (lectura) de datos”. (Johnson, 1999, p.8).\n",
    "\n",
    "\n",
    "En pocas palabras el sistema manejador de bases de datos será la interfaz entre el usuario y la base de datos, permitiendo un control preciso de los datos y la generación de información confiable. Algunas de sus funciones principales son \n",
    "\n",
    "- **Definir la base de datos:** Establecer la forma en que serán almacenados los datos.\n",
    "- **Crear la base de datos:** Almacenar los datos en la estructura definida.\n",
    "- **Recuperar datos:** Ejecución de consultas y reportes.\n",
    "- **Actualizar datos:** Insertar, suprimir y modificar los datos almacenados.\n",
    "- **Controlar accesos y concurrencias:** Verificar a los usuarios autorizados y su nivel de ingerencia en la base de datos, en accesos independientes y compartidos.\n",
    "- **Controlar la integridad:** Aplicar a la base de datos diferentes criterios de validación de datos. \n",
    "\n",
    "Algunos de los SMBD más conocidos son los siguientes \n",
    "\n",
    "- MySQL\n",
    "- Microsoft SQL Server\n",
    "- Oracle Database\n",
    "- PostgreSQL\n",
    "- MongoDB"
   ]
  },
  {
   "cell_type": "markdown",
   "id": "33f46896-66ed-4e79-8d2b-794464c00693",
   "metadata": {},
   "source": [
    "## SQL "
   ]
  },
  {
   "cell_type": "markdown",
   "id": "16e3af92-9ac3-4abb-ac65-cd2d8bbf1aa9",
   "metadata": {},
   "source": [
    "SQL (Structured Query Language) es un lenguaje de programación estándar utilizado para gestionar y manipular bases de datos relacionales. Fue desarrollado en la década de 1970 por IBM y se ha convertido en el lenguaje de consulta más utilizado para interactuar con bases de datos. SQL permite a los usuarios realizar una amplia variedad de operaciones sobre los datos, incluyendo la creación, modificación, consulta y eliminación de datos.\n",
    "\n",
    "Una consulta SQL es una instrucción escrita en el lenguaje SQL que se utiliza para recuperar, insertar, actualizar o eliminar datos en una base de datos. Es la forma principal de interactuar con los datos almacenados en una base de datos relacional.\n",
    "\n",
    "Afortunadamente, Python cuenta con una paqueteria que nos permite tratar a DataFrames como una tabla correspondiente a una base de datos, para lo que, a continuación se presentan los conceptos básicos y las consultas más comunes en SQL."
   ]
  },
  {
   "cell_type": "code",
   "execution_count": null,
   "id": "317a7076-f7ad-4a17-ac78-19656f4a1e94",
   "metadata": {},
   "outputs": [],
   "source": []
  },
  {
   "cell_type": "markdown",
   "id": "312ffed9-a809-46ba-a5ff-5753bf9f315d",
   "metadata": {},
   "source": [
    "### SELECT & FROM\n",
    "Estas formal la estructura fundamental de una consulta SQL, se usa  para recuperar datos de una o más tablas\n",
    "\n",
    "```SQL\n",
    "SELECT columna1, columna2\n",
    "FROM nombre_tabla;"
   ]
  },
  {
   "cell_type": "markdown",
   "id": "6b521ec8-c53c-4b8f-a063-2cddb1b17a76",
   "metadata": {},
   "source": [
    "### WHERE \n",
    "\n",
    "WHERE se utiliza para filtrar registros que cumplen una condición específica.\n",
    "\n",
    "```SQL\n",
    "SELECT columna1, columna2\n",
    "FROM nombre_tabla\n",
    "WHERE condicion;"
   ]
  },
  {
   "cell_type": "markdown",
   "id": "a1f6b539-47bd-4872-bc19-e63a53a3e5ce",
   "metadata": {},
   "source": [
    "### ORDER BY\n",
    "\n",
    "Se utiliza para ordenar los resultados de una consulta en orden ascendente o descendente.\n",
    "\n",
    "```SQL\n",
    "SELECT columna1, columna2\n",
    "FROM nombre_tabla\n",
    "ORDER BY columna1 ASC;"
   ]
  },
  {
   "cell_type": "markdown",
   "id": "6aa48f49-d786-4451-8a62-082fea0e8d23",
   "metadata": {},
   "source": [
    "### GROUP BY\n",
    "\n",
    "Organiza los datos en grupos basados en una o más columnas. Es útil cuando se necesita resumir o agregar datos en función de categorías específicas.\n",
    "\n",
    "```SQL\n",
    "SELECT columna1, columna2\n",
    "FROM nombre_tabla\n",
    "GROUP BY 1; -- ordenamos por el *1er* elemento que se muestra en el select"
   ]
  },
  {
   "cell_type": "markdown",
   "id": "8e391333-c652-48c6-adf6-dbc6a63eae73",
   "metadata": {},
   "source": [
    "### JOIN\n",
    "\n",
    "Las consultas JOIN se utilizan para combinar filas de dos o más tablas, basadas en una columna relacionada entre ellas.\n",
    "\n",
    "```SQL\n",
    "SELECT tabla1.columna1, tabla2.columna2\n",
    "FROM tabla1\n",
    "LEFT JOIN tabla2 --tabla que queremos unir\n",
    "ON tabla1.columna_comun = tabla2.columna_comun -- atributo/columna que tienen en comun ambas tablas\n",
    "```\n",
    "\n",
    "En este caso particular existen varios tipos de JOIN, explicados de la siguiente forma:\n",
    "\n",
    "- INNER JOIN: Combina filas de dos tablas cuando hay coincidencias en ambas.\n",
    "- LEFT JOIN: Devuelve todas las filas de la tabla izquierda y las coincidencias de la derecha; filas sin coincidencia en la derecha tendrán valores nulos.\n",
    "- RIGHT JOIN: Devuelve todas las filas de la tabla derecha y las coincidencias de la izquierda; filas sin coincidencia en la izquierda tendrán valores nulos.\n",
    "- FULL JOIN: Devuelve todas las filas cuando hay coincidencias en una de las tablas; filas sin coincidencia tendrán valores nulos.\n",
    "- CROSS JOIN: Devuelve el producto cartesiano de las dos tablas, combinando cada fila de la primera tabla con cada fila de la segunda."
   ]
  },
  {
   "cell_type": "markdown",
   "id": "532f49e4-f008-4f63-9779-ea543101e4fd",
   "metadata": {},
   "source": [
    "## Referencias\n",
    "\n",
    "+ https://www.lucidchart.com/pages/es/que-es-un-diagrama-entidad-relacion\n",
    "+ https://tigger.celaya.tecnm.mx/conacad/cargas/GAFR590328RX9/24/tema%201%20introduccion%20a%20DBMS.pdf\n",
    "+ https://bookdown.org/paranedagarcia/database/el-modelo-relacional.html\n"
   ]
  }
 ],
 "metadata": {
  "kernelspec": {
   "display_name": "Python 3 (ipykernel)",
   "language": "python",
   "name": "python3"
  },
  "language_info": {
   "codemirror_mode": {
    "name": "ipython",
    "version": 3
   },
   "file_extension": ".py",
   "mimetype": "text/x-python",
   "name": "python",
   "nbconvert_exporter": "python",
   "pygments_lexer": "ipython3",
   "version": "3.11.6"
  }
 },
 "nbformat": 4,
 "nbformat_minor": 5
}
