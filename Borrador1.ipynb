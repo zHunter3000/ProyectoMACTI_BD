{
 "cells": [
  {
   "cell_type": "markdown",
   "id": "d09a082f-e9ee-4d7a-b4ca-73cc37403941",
   "metadata": {},
   "source": [
    "# Consultas en SQL"
   ]
  },
  {
   "cell_type": "markdown",
   "id": "a7c8751a-8f8d-4948-8559-6cdbdd66ce7c",
   "metadata": {},
   "source": [
    "## Introducción a las consultas en SQL \n",
    "\n",
    "1. ¿Que es SQL? SQL (Structured Query Language) es el lenguaje estándar utilizado para interactuar con bases de datos relacionales. Permite realizar diversas operaciones como insertar, actualizar, eliminar y consultar datos. A continuación, se presentan los conceptos básicos y las consultas más comunes en SQL.\n",
    "2. \n"
   ]
  },
  {
   "cell_type": "code",
   "execution_count": null,
   "id": "76ad26be-f49f-4960-8843-e87ffb61e53e",
   "metadata": {},
   "outputs": [],
   "source": []
  }
 ],
 "metadata": {
  "kernelspec": {
   "display_name": "Python 3 (ipykernel)",
   "language": "python",
   "name": "python3"
  },
  "language_info": {
   "codemirror_mode": {
    "name": "ipython",
    "version": 3
   },
   "file_extension": ".py",
   "mimetype": "text/x-python",
   "name": "python",
   "nbconvert_exporter": "python",
   "pygments_lexer": "ipython3",
   "version": "3.11.6"
  }
 },
 "nbformat": 4,
 "nbformat_minor": 5
}
